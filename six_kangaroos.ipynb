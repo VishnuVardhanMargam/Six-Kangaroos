{
 "cells": [
  {
   "cell_type": "code",
   "execution_count": 18,
   "id": "ee3abfee-59d4-4b4f-b8bc-e6f7ef64d9bd",
   "metadata": {},
   "outputs": [
    {
     "name": "stdout",
     "output_type": "stream",
     "text": [
      "Done\n"
     ]
    }
   ],
   "source": [
    "class State:\n",
    "    def __init__(self, positions):\n",
    "        self.positions = positions\n",
    "\n",
    "    def goalTest(self):\n",
    "        west = False\n",
    "\n",
    "        for c in self.positions:\n",
    "            if c == \"E\" and west:\n",
    "                return False\n",
    "            elif c == \"W\":\n",
    "                west = True\n",
    "\n",
    "        return True\n",
    "\n",
    "    def newState(self, i, j):\n",
    "        newPos = list(self.positions)\n",
    "        temp = newPos[i]\n",
    "        newPos[i] = newPos[j]\n",
    "        newPos[j] = temp\n",
    "\n",
    "        return State(newPos)\n",
    "\n",
    "    def moveGen(self):\n",
    "        children = list()\n",
    "        n = len(self.positions)\n",
    "\n",
    "        index = self.positions.index('_')\n",
    "\n",
    "        if index - 1 >= 0 and self.positions[index - 1] == 'W':\n",
    "            children.append(self.newState(index, index - 1))\n",
    "\n",
    "        if index - 2 >= 0 and self.positions[index - 1] != 'W' and self.positions[index - 2] == 'W':\n",
    "            children.append(self.newState(index, index - 2))\n",
    "\n",
    "        if index + 1 < n and self.positions[index + 1] == 'E':\n",
    "            children.append(self.newState(index, index + 1))\n",
    "\n",
    "        if index + 2 < n and self.positions[index + 1] != 'E' and self.positions[index + 2] == 'E':\n",
    "            children.append(self.newState(index, index + 2))\n",
    "\n",
    "        return children\n",
    "\n",
    "    def __eq__(self, other):\n",
    "        for i in range(len(self.positions)):\n",
    "            if self.positions[i] != other.positions[i]:\n",
    "                return False\n",
    "\n",
    "        return True\n",
    "\n",
    "    def __str__(self):\n",
    "        return \"\".join(self.positions)\n",
    "\n",
    "print(\"Done\")"
   ]
  },
  {
   "cell_type": "code",
   "execution_count": 27,
   "id": "f6038a38-2dd4-4cb9-bfdb-91ee9293e37f",
   "metadata": {},
   "outputs": [],
   "source": [
    "pos = ['W', 'W', 'W', '_', 'E', 'E', 'E']\n",
    "\n",
    "initial_state = State(pos)\n",
    "\n",
    "def BFS(initial_state):\n",
    "    open = [(initial_state, None)]\n",
    "    closed = list()\n",
    "\n",
    "    while open:\n",
    "        node_pair = open.pop(0)\n",
    "        node, parent = node_pair\n",
    "\n",
    "        if node.goalTest():\n",
    "            return pathToGoal(closed, node, parent)\n",
    "\n",
    "        children = node.moveGen()\n",
    "        pairs = [(state, node) for state in children]\n",
    "        open.extend(pairs)\n",
    "\n",
    "        closed.append(node_pair)\n",
    "\n",
    "    return None\n",
    "\n",
    "def pathToGoal(closed, node, parent):\n",
    "    result = [node]\n",
    "\n",
    "    closed.reverse()\n",
    "\n",
    "    for node_pair in closed:\n",
    "        if parent is None:\n",
    "            break\n",
    "\n",
    "        n, p = node_pair\n",
    "\n",
    "        if n == parent:\n",
    "            result.append(n)\n",
    "            parent = p\n",
    "    result.reverse()\n",
    "    return result\n",
    "\n"
   ]
  },
  {
   "cell_type": "code",
   "execution_count": 28,
   "id": "4952b9b5-c292-4202-bf45-c160bf64551a",
   "metadata": {},
   "outputs": [
    {
     "name": "stdout",
     "output_type": "stream",
     "text": [
      "WWW_EEE\n",
      "WW_WEEE\n",
      "WWEW_EE\n",
      "WWEWE_E\n",
      "WWE_EWE\n",
      "W_EWEWE\n",
      "_WEWEWE\n",
      "EW_WEWE\n",
      "EWEW_WE\n",
      "EWEWEW_\n",
      "EWEWE_W\n",
      "EWE_EWW\n",
      "E_EWEWW\n",
      "EE_WEWW\n",
      "EEEW_WW\n"
     ]
    }
   ],
   "source": [
    "def printPath(path):\n",
    "    for node in path:\n",
    "        print(node)\n",
    "\n",
    "\n",
    "path = BFS(initial_state)\n",
    "\n",
    "printPath(path)"
   ]
  },
  {
   "cell_type": "code",
   "execution_count": null,
   "id": "8f00128c-ddf0-4d28-9d3d-1b1328464269",
   "metadata": {},
   "outputs": [],
   "source": []
  }
 ],
 "metadata": {
  "kernelspec": {
   "display_name": "Python 3 (ipykernel)",
   "language": "python",
   "name": "python3"
  },
  "language_info": {
   "codemirror_mode": {
    "name": "ipython",
    "version": 3
   },
   "file_extension": ".py",
   "mimetype": "text/x-python",
   "name": "python",
   "nbconvert_exporter": "python",
   "pygments_lexer": "ipython3",
   "version": "3.12.3"
  }
 },
 "nbformat": 4,
 "nbformat_minor": 5
}
